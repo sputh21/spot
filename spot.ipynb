{
 "cells": [
  {
   "cell_type": "code",
   "execution_count": null,
   "id": "d37d522e-cb3f-4a16-ab2d-5a1c8cbea276",
   "metadata": {
    "collapsed": true,
    "jupyter": {
     "outputs_hidden": true
    },
    "scrolled": true
   },
   "outputs": [
    {
     "name": "stdout",
     "output_type": "stream",
     "text": [
      "Requirement already satisfied: pandas in ./myenv/lib/python3.10/site-packages (2.3.2)\n",
      "Requirement already satisfied: numpy in ./myenv/lib/python3.10/site-packages (2.2.6)\n",
      "Requirement already satisfied: spacy in ./myenv/lib/python3.10/site-packages (3.8.7)\n",
      "Requirement already satisfied: scikit-learn in ./myenv/lib/python3.10/site-packages (1.7.2)\n",
      "Requirement already satisfied: tensorflow in ./myenv/lib/python3.10/site-packages (2.20.0)\n",
      "Requirement already satisfied: datasets in ./myenv/lib/python3.10/site-packages (4.0.0)\n",
      "Requirement already satisfied: spacy_langdetect in ./myenv/lib/python3.10/site-packages (0.1.2)\n",
      "Requirement already satisfied: python-dateutil>=2.8.2 in ./myenv/lib/python3.10/site-packages (from pandas) (2.9.0.post0)\n",
      "Requirement already satisfied: tzdata>=2022.7 in ./myenv/lib/python3.10/site-packages (from pandas) (2025.2)\n",
      "Requirement already satisfied: pytz>=2020.1 in ./myenv/lib/python3.10/site-packages (from pandas) (2025.2)\n",
      "Requirement already satisfied: packaging>=20.0 in ./myenv/lib/python3.10/site-packages (from spacy) (25.0)\n",
      "Requirement already satisfied: srsly<3.0.0,>=2.4.3 in ./myenv/lib/python3.10/site-packages (from spacy) (2.5.1)\n",
      "Requirement already satisfied: weasel<0.5.0,>=0.1.0 in ./myenv/lib/python3.10/site-packages (from spacy) (0.4.1)\n",
      "Requirement already satisfied: thinc<8.4.0,>=8.3.4 in ./myenv/lib/python3.10/site-packages (from spacy) (8.3.6)\n",
      "Requirement already satisfied: wasabi<1.2.0,>=0.9.1 in ./myenv/lib/python3.10/site-packages (from spacy) (1.1.3)\n",
      "Requirement already satisfied: murmurhash<1.1.0,>=0.28.0 in ./myenv/lib/python3.10/site-packages (from spacy) (1.0.13)\n",
      "Requirement already satisfied: langcodes<4.0.0,>=3.2.0 in ./myenv/lib/python3.10/site-packages (from spacy) (3.5.0)\n",
      "Requirement already satisfied: tqdm<5.0.0,>=4.38.0 in ./myenv/lib/python3.10/site-packages (from spacy) (4.67.1)\n",
      "Requirement already satisfied: spacy-loggers<2.0.0,>=1.0.0 in ./myenv/lib/python3.10/site-packages (from spacy) (1.0.5)\n",
      "Requirement already satisfied: catalogue<2.1.0,>=2.0.6 in ./myenv/lib/python3.10/site-packages (from spacy) (2.0.10)\n",
      "Requirement already satisfied: pydantic!=1.8,!=1.8.1,<3.0.0,>=1.7.4 in ./myenv/lib/python3.10/site-packages (from spacy) (2.11.7)\n",
      "Requirement already satisfied: spacy-legacy<3.1.0,>=3.0.11 in ./myenv/lib/python3.10/site-packages (from spacy) (3.0.12)\n",
      "Requirement already satisfied: preshed<3.1.0,>=3.0.2 in ./myenv/lib/python3.10/site-packages (from spacy) (3.0.10)\n",
      "Requirement already satisfied: jinja2 in ./myenv/lib/python3.10/site-packages (from spacy) (3.1.6)\n",
      "Requirement already satisfied: requests<3.0.0,>=2.13.0 in ./myenv/lib/python3.10/site-packages (from spacy) (2.32.5)\n",
      "Requirement already satisfied: typer<1.0.0,>=0.3.0 in ./myenv/lib/python3.10/site-packages (from spacy) (0.17.4)\n",
      "Requirement already satisfied: cymem<2.1.0,>=2.0.2 in ./myenv/lib/python3.10/site-packages (from spacy) (2.0.11)\n",
      "Requirement already satisfied: setuptools in ./myenv/lib/python3.10/site-packages (from spacy) (59.6.0)\n",
      "Requirement already satisfied: joblib>=1.2.0 in ./myenv/lib/python3.10/site-packages (from scikit-learn) (1.5.2)\n",
      "Requirement already satisfied: threadpoolctl>=3.1.0 in ./myenv/lib/python3.10/site-packages (from scikit-learn) (3.6.0)\n",
      "Requirement already satisfied: scipy>=1.8.0 in ./myenv/lib/python3.10/site-packages (from scikit-learn) (1.15.3)\n",
      "Requirement already satisfied: opt_einsum>=2.3.2 in ./myenv/lib/python3.10/site-packages (from tensorflow) (3.4.0)\n",
      "Requirement already satisfied: tensorboard~=2.20.0 in ./myenv/lib/python3.10/site-packages (from tensorflow) (2.20.0)\n",
      "Requirement already satisfied: absl-py>=1.0.0 in ./myenv/lib/python3.10/site-packages (from tensorflow) (2.3.1)\n",
      "Requirement already satisfied: libclang>=13.0.0 in ./myenv/lib/python3.10/site-packages (from tensorflow) (18.1.1)\n",
      "Requirement already satisfied: termcolor>=1.1.0 in ./myenv/lib/python3.10/site-packages (from tensorflow) (3.1.0)\n",
      "Requirement already satisfied: astunparse>=1.6.0 in ./myenv/lib/python3.10/site-packages (from tensorflow) (1.6.3)\n",
      "Requirement already satisfied: typing_extensions>=3.6.6 in ./myenv/lib/python3.10/site-packages (from tensorflow) (4.15.0)\n",
      "Requirement already satisfied: google_pasta>=0.1.1 in ./myenv/lib/python3.10/site-packages (from tensorflow) (0.2.0)\n",
      "Requirement already satisfied: protobuf>=5.28.0 in ./myenv/lib/python3.10/site-packages (from tensorflow) (6.32.1)\n",
      "Requirement already satisfied: keras>=3.10.0 in ./myenv/lib/python3.10/site-packages (from tensorflow) (3.11.3)\n",
      "Requirement already satisfied: grpcio<2.0,>=1.24.3 in ./myenv/lib/python3.10/site-packages (from tensorflow) (1.74.0)\n",
      "Requirement already satisfied: wrapt>=1.11.0 in ./myenv/lib/python3.10/site-packages (from tensorflow) (1.17.3)\n",
      "Requirement already satisfied: six>=1.12.0 in ./myenv/lib/python3.10/site-packages (from tensorflow) (1.17.0)\n",
      "Requirement already satisfied: gast!=0.5.0,!=0.5.1,!=0.5.2,>=0.2.1 in ./myenv/lib/python3.10/site-packages (from tensorflow) (0.6.0)\n",
      "Requirement already satisfied: ml_dtypes<1.0.0,>=0.5.1 in ./myenv/lib/python3.10/site-packages (from tensorflow) (0.5.3)\n",
      "Requirement already satisfied: flatbuffers>=24.3.25 in ./myenv/lib/python3.10/site-packages (from tensorflow) (25.2.10)\n",
      "Requirement already satisfied: h5py>=3.11.0 in ./myenv/lib/python3.10/site-packages (from tensorflow) (3.14.0)\n",
      "Requirement already satisfied: fsspec[http]<=2025.3.0,>=2023.1.0 in ./myenv/lib/python3.10/site-packages (from datasets) (2025.3.0)\n",
      "Requirement already satisfied: dill<0.3.9,>=0.3.0 in ./myenv/lib/python3.10/site-packages (from datasets) (0.3.8)\n",
      "Requirement already satisfied: pyyaml>=5.1 in ./myenv/lib/python3.10/site-packages (from datasets) (6.0.2)\n",
      "Requirement already satisfied: pyarrow>=15.0.0 in ./myenv/lib/python3.10/site-packages (from datasets) (21.0.0)\n",
      "Requirement already satisfied: filelock in ./myenv/lib/python3.10/site-packages (from datasets) (3.19.1)\n",
      "Requirement already satisfied: xxhash in ./myenv/lib/python3.10/site-packages (from datasets) (3.5.0)\n",
      "Requirement already satisfied: multiprocess<0.70.17 in ./myenv/lib/python3.10/site-packages (from datasets) (0.70.16)\n",
      "Requirement already satisfied: huggingface-hub>=0.24.0 in ./myenv/lib/python3.10/site-packages (from datasets) (0.34.4)\n",
      "Requirement already satisfied: pytest in ./myenv/lib/python3.10/site-packages (from spacy_langdetect) (8.4.2)\n",
      "Requirement already satisfied: langdetect==1.0.7 in ./myenv/lib/python3.10/site-packages (from spacy_langdetect) (1.0.7)\n",
      "Requirement already satisfied: wheel<1.0,>=0.23.0 in ./myenv/lib/python3.10/site-packages (from astunparse>=1.6.0->tensorflow) (0.45.1)\n",
      "Requirement already satisfied: aiohttp!=4.0.0a0,!=4.0.0a1 in ./myenv/lib/python3.10/site-packages (from fsspec[http]<=2025.3.0,>=2023.1.0->datasets) (3.12.15)\n",
      "Requirement already satisfied: hf-xet<2.0.0,>=1.1.3 in ./myenv/lib/python3.10/site-packages (from huggingface-hub>=0.24.0->datasets) (1.1.9)\n",
      "Requirement already satisfied: optree in ./myenv/lib/python3.10/site-packages (from keras>=3.10.0->tensorflow) (0.17.0)\n",
      "Requirement already satisfied: rich in ./myenv/lib/python3.10/site-packages (from keras>=3.10.0->tensorflow) (14.1.0)\n",
      "Requirement already satisfied: namex in ./myenv/lib/python3.10/site-packages (from keras>=3.10.0->tensorflow) (0.1.0)\n",
      "Requirement already satisfied: language-data>=1.2 in ./myenv/lib/python3.10/site-packages (from langcodes<4.0.0,>=3.2.0->spacy) (1.3.0)\n",
      "Requirement already satisfied: typing-inspection>=0.4.0 in ./myenv/lib/python3.10/site-packages (from pydantic!=1.8,!=1.8.1,<3.0.0,>=1.7.4->spacy) (0.4.1)\n",
      "Requirement already satisfied: pydantic-core==2.33.2 in ./myenv/lib/python3.10/site-packages (from pydantic!=1.8,!=1.8.1,<3.0.0,>=1.7.4->spacy) (2.33.2)\n",
      "Requirement already satisfied: annotated-types>=0.6.0 in ./myenv/lib/python3.10/site-packages (from pydantic!=1.8,!=1.8.1,<3.0.0,>=1.7.4->spacy) (0.7.0)\n",
      "Requirement already satisfied: idna<4,>=2.5 in ./myenv/lib/python3.10/site-packages (from requests<3.0.0,>=2.13.0->spacy) (3.10)\n",
      "Requirement already satisfied: charset_normalizer<4,>=2 in ./myenv/lib/python3.10/site-packages (from requests<3.0.0,>=2.13.0->spacy) (3.4.3)\n",
      "Requirement already satisfied: certifi>=2017.4.17 in ./myenv/lib/python3.10/site-packages (from requests<3.0.0,>=2.13.0->spacy) (2025.8.3)\n",
      "Requirement already satisfied: urllib3<3,>=1.21.1 in ./myenv/lib/python3.10/site-packages (from requests<3.0.0,>=2.13.0->spacy) (2.5.0)\n",
      "Requirement already satisfied: tensorboard-data-server<0.8.0,>=0.7.0 in ./myenv/lib/python3.10/site-packages (from tensorboard~=2.20.0->tensorflow) (0.7.2)\n",
      "Requirement already satisfied: pillow in ./myenv/lib/python3.10/site-packages (from tensorboard~=2.20.0->tensorflow) (11.3.0)\n",
      "Requirement already satisfied: werkzeug>=1.0.1 in ./myenv/lib/python3.10/site-packages (from tensorboard~=2.20.0->tensorflow) (3.1.3)\n",
      "Requirement already satisfied: markdown>=2.6.8 in ./myenv/lib/python3.10/site-packages (from tensorboard~=2.20.0->tensorflow) (3.9)\n",
      "Requirement already satisfied: confection<1.0.0,>=0.0.1 in ./myenv/lib/python3.10/site-packages (from thinc<8.4.0,>=8.3.4->spacy) (0.1.5)\n",
      "Requirement already satisfied: blis<1.4.0,>=1.3.0 in ./myenv/lib/python3.10/site-packages (from thinc<8.4.0,>=8.3.4->spacy) (1.3.0)\n",
      "Requirement already satisfied: click>=8.0.0 in ./myenv/lib/python3.10/site-packages (from typer<1.0.0,>=0.3.0->spacy) (8.2.1)\n",
      "Requirement already satisfied: shellingham>=1.3.0 in ./myenv/lib/python3.10/site-packages (from typer<1.0.0,>=0.3.0->spacy) (1.5.4)\n",
      "Requirement already satisfied: cloudpathlib<1.0.0,>=0.7.0 in ./myenv/lib/python3.10/site-packages (from weasel<0.5.0,>=0.1.0->spacy) (0.22.0)\n",
      "Requirement already satisfied: smart-open<8.0.0,>=5.2.1 in ./myenv/lib/python3.10/site-packages (from weasel<0.5.0,>=0.1.0->spacy) (7.3.1)\n",
      "Requirement already satisfied: MarkupSafe>=2.0 in ./myenv/lib/python3.10/site-packages (from jinja2->spacy) (3.0.2)\n",
      "Requirement already satisfied: pluggy<2,>=1.5 in ./myenv/lib/python3.10/site-packages (from pytest->spacy_langdetect) (1.6.0)\n",
      "Requirement already satisfied: pygments>=2.7.2 in ./myenv/lib/python3.10/site-packages (from pytest->spacy_langdetect) (2.19.2)\n",
      "Requirement already satisfied: iniconfig>=1 in ./myenv/lib/python3.10/site-packages (from pytest->spacy_langdetect) (2.1.0)\n",
      "Requirement already satisfied: exceptiongroup>=1 in ./myenv/lib/python3.10/site-packages (from pytest->spacy_langdetect) (1.3.0)\n",
      "Requirement already satisfied: tomli>=1 in ./myenv/lib/python3.10/site-packages (from pytest->spacy_langdetect) (2.2.1)\n",
      "Requirement already satisfied: frozenlist>=1.1.1 in ./myenv/lib/python3.10/site-packages (from aiohttp!=4.0.0a0,!=4.0.0a1->fsspec[http]<=2025.3.0,>=2023.1.0->datasets) (1.7.0)\n",
      "Requirement already satisfied: propcache>=0.2.0 in ./myenv/lib/python3.10/site-packages (from aiohttp!=4.0.0a0,!=4.0.0a1->fsspec[http]<=2025.3.0,>=2023.1.0->datasets) (0.3.2)\n",
      "Requirement already satisfied: aiosignal>=1.4.0 in ./myenv/lib/python3.10/site-packages (from aiohttp!=4.0.0a0,!=4.0.0a1->fsspec[http]<=2025.3.0,>=2023.1.0->datasets) (1.4.0)\n",
      "Requirement already satisfied: multidict<7.0,>=4.5 in ./myenv/lib/python3.10/site-packages (from aiohttp!=4.0.0a0,!=4.0.0a1->fsspec[http]<=2025.3.0,>=2023.1.0->datasets) (6.6.4)\n",
      "Requirement already satisfied: attrs>=17.3.0 in ./myenv/lib/python3.10/site-packages (from aiohttp!=4.0.0a0,!=4.0.0a1->fsspec[http]<=2025.3.0,>=2023.1.0->datasets) (25.3.0)\n",
      "Requirement already satisfied: aiohappyeyeballs>=2.5.0 in ./myenv/lib/python3.10/site-packages (from aiohttp!=4.0.0a0,!=4.0.0a1->fsspec[http]<=2025.3.0,>=2023.1.0->datasets) (2.6.1)\n",
      "Requirement already satisfied: yarl<2.0,>=1.17.0 in ./myenv/lib/python3.10/site-packages (from aiohttp!=4.0.0a0,!=4.0.0a1->fsspec[http]<=2025.3.0,>=2023.1.0->datasets) (1.20.1)\n",
      "Requirement already satisfied: async-timeout<6.0,>=4.0 in ./myenv/lib/python3.10/site-packages (from aiohttp!=4.0.0a0,!=4.0.0a1->fsspec[http]<=2025.3.0,>=2023.1.0->datasets) (5.0.1)\n",
      "Requirement already satisfied: marisa-trie>=1.1.0 in ./myenv/lib/python3.10/site-packages (from language-data>=1.2->langcodes<4.0.0,>=3.2.0->spacy) (1.3.1)\n",
      "Requirement already satisfied: markdown-it-py>=2.2.0 in ./myenv/lib/python3.10/site-packages (from rich->keras>=3.10.0->tensorflow) (4.0.0)\n",
      "Requirement already satisfied: mdurl~=0.1 in ./myenv/lib/python3.10/site-packages (from markdown-it-py>=2.2.0->rich->keras>=3.10.0->tensorflow) (0.1.2)\n",
      "Requirement already satisfied: lckr_jupyterlab_variableinspector in ./myenv/lib/python3.10/site-packages (3.2.4)\n",
      "Collecting spacy_fastlang\n",
      "  Using cached spacy_fastlang-2.1.0-py3-none-any.whl (780 kB)\n",
      "Collecting fasttext-wheel<0.10.0,>=0.9.2\n",
      "  Using cached fasttext_wheel-0.9.2-cp310-cp310-manylinux_2_17_x86_64.manylinux2014_x86_64.whl (4.4 MB)\n",
      "Requirement already satisfied: spacy<4.0.0,>=3.0.0 in ./myenv/lib/python3.10/site-packages (from spacy_fastlang) (3.8.7)\n",
      "Requirement already satisfied: numpy in ./myenv/lib/python3.10/site-packages (from fasttext-wheel<0.10.0,>=0.9.2->spacy_fastlang) (2.2.6)\n",
      "Collecting pybind11>=2.2\n",
      "  Using cached pybind11-3.0.1-py3-none-any.whl (293 kB)\n",
      "Requirement already satisfied: setuptools>=0.7.0 in ./myenv/lib/python3.10/site-packages (from fasttext-wheel<0.10.0,>=0.9.2->spacy_fastlang) (59.6.0)\n",
      "Requirement already satisfied: thinc<8.4.0,>=8.3.4 in ./myenv/lib/python3.10/site-packages (from spacy<4.0.0,>=3.0.0->spacy_fastlang) (8.3.6)\n",
      "Requirement already satisfied: srsly<3.0.0,>=2.4.3 in ./myenv/lib/python3.10/site-packages (from spacy<4.0.0,>=3.0.0->spacy_fastlang) (2.5.1)\n",
      "Requirement already satisfied: tqdm<5.0.0,>=4.38.0 in ./myenv/lib/python3.10/site-packages (from spacy<4.0.0,>=3.0.0->spacy_fastlang) (4.67.1)\n",
      "Requirement already satisfied: spacy-loggers<2.0.0,>=1.0.0 in ./myenv/lib/python3.10/site-packages (from spacy<4.0.0,>=3.0.0->spacy_fastlang) (1.0.5)\n",
      "Requirement already satisfied: cymem<2.1.0,>=2.0.2 in ./myenv/lib/python3.10/site-packages (from spacy<4.0.0,>=3.0.0->spacy_fastlang) (2.0.11)\n",
      "Requirement already satisfied: typer<1.0.0,>=0.3.0 in ./myenv/lib/python3.10/site-packages (from spacy<4.0.0,>=3.0.0->spacy_fastlang) (0.17.4)\n",
      "Requirement already satisfied: wasabi<1.2.0,>=0.9.1 in ./myenv/lib/python3.10/site-packages (from spacy<4.0.0,>=3.0.0->spacy_fastlang) (1.1.3)\n",
      "Requirement already satisfied: spacy-legacy<3.1.0,>=3.0.11 in ./myenv/lib/python3.10/site-packages (from spacy<4.0.0,>=3.0.0->spacy_fastlang) (3.0.12)\n",
      "Requirement already satisfied: langcodes<4.0.0,>=3.2.0 in ./myenv/lib/python3.10/site-packages (from spacy<4.0.0,>=3.0.0->spacy_fastlang) (3.5.0)\n",
      "Requirement already satisfied: murmurhash<1.1.0,>=0.28.0 in ./myenv/lib/python3.10/site-packages (from spacy<4.0.0,>=3.0.0->spacy_fastlang) (1.0.13)\n",
      "Requirement already satisfied: catalogue<2.1.0,>=2.0.6 in ./myenv/lib/python3.10/site-packages (from spacy<4.0.0,>=3.0.0->spacy_fastlang) (2.0.10)\n",
      "Requirement already satisfied: packaging>=20.0 in ./myenv/lib/python3.10/site-packages (from spacy<4.0.0,>=3.0.0->spacy_fastlang) (25.0)\n",
      "Requirement already satisfied: requests<3.0.0,>=2.13.0 in ./myenv/lib/python3.10/site-packages (from spacy<4.0.0,>=3.0.0->spacy_fastlang) (2.32.5)\n",
      "Requirement already satisfied: preshed<3.1.0,>=3.0.2 in ./myenv/lib/python3.10/site-packages (from spacy<4.0.0,>=3.0.0->spacy_fastlang) (3.0.10)\n",
      "Requirement already satisfied: pydantic!=1.8,!=1.8.1,<3.0.0,>=1.7.4 in ./myenv/lib/python3.10/site-packages (from spacy<4.0.0,>=3.0.0->spacy_fastlang) (2.11.7)\n",
      "Requirement already satisfied: weasel<0.5.0,>=0.1.0 in ./myenv/lib/python3.10/site-packages (from spacy<4.0.0,>=3.0.0->spacy_fastlang) (0.4.1)\n",
      "Requirement already satisfied: jinja2 in ./myenv/lib/python3.10/site-packages (from spacy<4.0.0,>=3.0.0->spacy_fastlang) (3.1.6)\n",
      "Requirement already satisfied: language-data>=1.2 in ./myenv/lib/python3.10/site-packages (from langcodes<4.0.0,>=3.2.0->spacy<4.0.0,>=3.0.0->spacy_fastlang) (1.3.0)\n",
      "Requirement already satisfied: typing-extensions>=4.12.2 in ./myenv/lib/python3.10/site-packages (from pydantic!=1.8,!=1.8.1,<3.0.0,>=1.7.4->spacy<4.0.0,>=3.0.0->spacy_fastlang) (4.15.0)\n",
      "Requirement already satisfied: annotated-types>=0.6.0 in ./myenv/lib/python3.10/site-packages (from pydantic!=1.8,!=1.8.1,<3.0.0,>=1.7.4->spacy<4.0.0,>=3.0.0->spacy_fastlang) (0.7.0)\n",
      "Requirement already satisfied: typing-inspection>=0.4.0 in ./myenv/lib/python3.10/site-packages (from pydantic!=1.8,!=1.8.1,<3.0.0,>=1.7.4->spacy<4.0.0,>=3.0.0->spacy_fastlang) (0.4.1)\n",
      "Requirement already satisfied: pydantic-core==2.33.2 in ./myenv/lib/python3.10/site-packages (from pydantic!=1.8,!=1.8.1,<3.0.0,>=1.7.4->spacy<4.0.0,>=3.0.0->spacy_fastlang) (2.33.2)\n",
      "Requirement already satisfied: certifi>=2017.4.17 in ./myenv/lib/python3.10/site-packages (from requests<3.0.0,>=2.13.0->spacy<4.0.0,>=3.0.0->spacy_fastlang) (2025.8.3)\n",
      "Requirement already satisfied: urllib3<3,>=1.21.1 in ./myenv/lib/python3.10/site-packages (from requests<3.0.0,>=2.13.0->spacy<4.0.0,>=3.0.0->spacy_fastlang) (2.5.0)\n",
      "Requirement already satisfied: charset_normalizer<4,>=2 in ./myenv/lib/python3.10/site-packages (from requests<3.0.0,>=2.13.0->spacy<4.0.0,>=3.0.0->spacy_fastlang) (3.4.3)\n",
      "Requirement already satisfied: idna<4,>=2.5 in ./myenv/lib/python3.10/site-packages (from requests<3.0.0,>=2.13.0->spacy<4.0.0,>=3.0.0->spacy_fastlang) (3.10)\n",
      "Requirement already satisfied: blis<1.4.0,>=1.3.0 in ./myenv/lib/python3.10/site-packages (from thinc<8.4.0,>=8.3.4->spacy<4.0.0,>=3.0.0->spacy_fastlang) (1.3.0)\n",
      "Requirement already satisfied: confection<1.0.0,>=0.0.1 in ./myenv/lib/python3.10/site-packages (from thinc<8.4.0,>=8.3.4->spacy<4.0.0,>=3.0.0->spacy_fastlang) (0.1.5)\n",
      "Requirement already satisfied: rich>=10.11.0 in ./myenv/lib/python3.10/site-packages (from typer<1.0.0,>=0.3.0->spacy<4.0.0,>=3.0.0->spacy_fastlang) (14.1.0)\n",
      "Requirement already satisfied: shellingham>=1.3.0 in ./myenv/lib/python3.10/site-packages (from typer<1.0.0,>=0.3.0->spacy<4.0.0,>=3.0.0->spacy_fastlang) (1.5.4)\n",
      "Requirement already satisfied: click>=8.0.0 in ./myenv/lib/python3.10/site-packages (from typer<1.0.0,>=0.3.0->spacy<4.0.0,>=3.0.0->spacy_fastlang) (8.2.1)\n",
      "Requirement already satisfied: smart-open<8.0.0,>=5.2.1 in ./myenv/lib/python3.10/site-packages (from weasel<0.5.0,>=0.1.0->spacy<4.0.0,>=3.0.0->spacy_fastlang) (7.3.1)\n",
      "Requirement already satisfied: cloudpathlib<1.0.0,>=0.7.0 in ./myenv/lib/python3.10/site-packages (from weasel<0.5.0,>=0.1.0->spacy<4.0.0,>=3.0.0->spacy_fastlang) (0.22.0)\n",
      "Requirement already satisfied: MarkupSafe>=2.0 in ./myenv/lib/python3.10/site-packages (from jinja2->spacy<4.0.0,>=3.0.0->spacy_fastlang) (3.0.2)\n",
      "Requirement already satisfied: marisa-trie>=1.1.0 in ./myenv/lib/python3.10/site-packages (from language-data>=1.2->langcodes<4.0.0,>=3.2.0->spacy<4.0.0,>=3.0.0->spacy_fastlang) (1.3.1)\n",
      "Requirement already satisfied: markdown-it-py>=2.2.0 in ./myenv/lib/python3.10/site-packages (from rich>=10.11.0->typer<1.0.0,>=0.3.0->spacy<4.0.0,>=3.0.0->spacy_fastlang) (4.0.0)\n",
      "Requirement already satisfied: pygments<3.0.0,>=2.13.0 in ./myenv/lib/python3.10/site-packages (from rich>=10.11.0->typer<1.0.0,>=0.3.0->spacy<4.0.0,>=3.0.0->spacy_fastlang) (2.19.2)\n",
      "Requirement already satisfied: wrapt in ./myenv/lib/python3.10/site-packages (from smart-open<8.0.0,>=5.2.1->weasel<0.5.0,>=0.1.0->spacy<4.0.0,>=3.0.0->spacy_fastlang) (1.17.3)\n",
      "Requirement already satisfied: mdurl~=0.1 in ./myenv/lib/python3.10/site-packages (from markdown-it-py>=2.2.0->rich>=10.11.0->typer<1.0.0,>=0.3.0->spacy<4.0.0,>=3.0.0->spacy_fastlang) (0.1.2)\n",
      "Installing collected packages: pybind11, fasttext-wheel, spacy_fastlang\n",
      "Successfully installed fasttext-wheel-0.9.2 pybind11-3.0.1 spacy_fastlang-2.1.0\n"
     ]
    }
   ],
   "source": [
    "!pip install pandas numpy spacy scikit-learn tensorflow datasets spacy_langdetect\n",
    "!pip install lckr_jupyterlab_variableinspector\n",
    "!pip install spacy_fastlang"
   ]
  },
  {
   "cell_type": "code",
   "execution_count": 1,
   "id": "7bd459fb",
   "metadata": {},
   "outputs": [
    {
     "name": "stderr",
     "output_type": "stream",
     "text": [
      "/home/sahil/spot/myenv/lib/python3.10/site-packages/tqdm/auto.py:21: TqdmWarning: IProgress not found. Please update jupyter and ipywidgets. See https://ipywidgets.readthedocs.io/en/stable/user_install.html\n",
      "  from .autonotebook import tqdm as notebook_tqdm\n"
     ]
    }
   ],
   "source": [
    "import pandas as pd\n",
    "import numpy as np\n",
    "from datasets import load_dataset\n",
    "import spacy\n",
    "from spacy_langdetect import LanguageDetector\n",
    "from sklearn.preprocessing import MinMaxScaler,OneHotEncoder,LabelEncoder\n"
   ]
  },
  {
   "cell_type": "code",
   "execution_count": 2,
   "id": "2464e634",
   "metadata": {},
   "outputs": [],
   "source": [
    "ds = load_dataset(\"maharshipandya/spotify-tracks-dataset\")"
   ]
  },
  {
   "cell_type": "code",
   "execution_count": 3,
   "id": "ed6e4bb2",
   "metadata": {},
   "outputs": [],
   "source": [
    "#get train and test datasets\n",
    "df_train = pd.DataFrame(ds['train'])\n",
    "df_test = pd.DataFrame(ds['train'])"
   ]
  },
  {
   "cell_type": "code",
   "execution_count": 4,
   "id": "5e840c61-20b1-413d-91cb-0260438c928c",
   "metadata": {},
   "outputs": [],
   "source": [
    "df_train = df_train.dropna()\n",
    "df_test = df_test.dropna()"
   ]
  },
  {
   "cell_type": "code",
   "execution_count": 5,
   "id": "8f4d8869",
   "metadata": {},
   "outputs": [],
   "source": [
    "#drop useless columns\n",
    "df_train.drop(columns=['Unnamed: 0', 'track_id'], inplace=True)\n",
    "df_test.drop(columns=['Unnamed: 0', 'track_id'], inplace=True)"
   ]
  },
  {
   "cell_type": "code",
   "execution_count": 6,
   "id": "f3180381-6ebd-4464-9d95-9586378327aa",
   "metadata": {},
   "outputs": [],
   "source": [
    "#get prediction columns and drop from tables\n",
    "target_train = df_train['popularity']\n",
    "target_test = df_test['popularity']\n",
    "df_train.drop(columns=['popularity'], inplace=True)\n",
    "df_test.drop(columns=['popularity'], inplace=True)"
   ]
  },
  {
   "cell_type": "code",
   "execution_count": 7,
   "id": "86480d9f",
   "metadata": {},
   "outputs": [],
   "source": [
    "from sklearn.compose import ColumnTransformer\n",
    "#TODO FIX THIS IF BROKEN\n",
    "transformer = ColumnTransformer(\n",
    "    transformers=[\n",
    "        ('cat', OneHotEncoder(handle_unknown='ignore', sparse_output=False), ['explicit', 'mode',  'track_genre', 'key', 'time_signature']),\n",
    "        ('minmax_scale', MinMaxScaler(), ['duration_ms', 'loudness', 'tempo']),\n",
    "    ], remainder='passthrough') \n",
    "\n",
    "transformer.fit(df_train)\n",
    "df_train = pd.DataFrame(transformer.transform(df_train), columns=transformer.get_feature_names_out())\n",
    "df_test = pd.DataFrame(transformer.transform(df_test), columns=transformer.get_feature_names_out())\n",
    "\n",
    "\n",
    "  "
   ]
  },
  {
   "cell_type": "code",
   "execution_count": null,
   "id": "68d5dc16",
   "metadata": {
    "collapsed": true,
    "jupyter": {
     "outputs_hidden": true
    }
   },
   "outputs": [],
   "source": [
    "import spacy\n",
    "from spacy_langdetect import LanguageDetector\n",
    "import tqdm\n",
    "import torch\n",
    "\n",
    "if torch.cuda.is_available():\n",
    "    spacy.require_gpu()\n",
    "\n",
    "\n",
    "\n",
    "\n",
    "\n",
    "\n",
    "\n",
    "tqdm.pandas()\n",
    "nlp = spacy.load(\"en\")\n",
    "nlp.add_pipe(LanguageDetector(), name=\"language_detector\", last=True)\n",
    "\n",
    "def detect(lang):\n",
    "    doc = nlp(lang)\n",
    "    return doc._.language['language']\n",
    "\n",
    "df_train['language'] = df_train['album_name'].progess_apply(detect)"
   ]
  }
 ],
 "metadata": {
  "kernelspec": {
   "display_name": "myenv",
   "language": "python",
   "name": "python3"
  },
  "language_info": {
   "codemirror_mode": {
    "name": "ipython",
    "version": 3
   },
   "file_extension": ".py",
   "mimetype": "text/x-python",
   "name": "python",
   "nbconvert_exporter": "python",
   "pygments_lexer": "ipython3",
   "version": "3.10.12"
  }
 },
 "nbformat": 4,
 "nbformat_minor": 5
}
