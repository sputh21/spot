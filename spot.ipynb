{
 "cells": [
  {
   "cell_type": "code",
   "execution_count": null,
   "id": "d37d522e-cb3f-4a16-ab2d-5a1c8cbea276",
   "metadata": {
    "jupyter": {
     "outputs_hidden": true
    }
   },
   "outputs": [],
   "source": [
    "!pip install pandas numpy spacy scikit-learn tensorflow datasets spacy_langdetect\n",
    "!pip install lckr_jupyterlab_variableinspector"
   ]
  },
  {
   "cell_type": "code",
   "execution_count": null,
   "id": "7bd459fb",
   "metadata": {},
   "outputs": [],
   "source": [
    "import pandas as pd\n",
    "import numpy as np\n",
    "from datasets import load_dataset\n",
    "import spacy\n",
    "from spacy_langdetect import LanguageDetector\n",
    "from sklearn.preprocessing import MinMaxScaler,OneHotEncoder,LabelEncoder\n"
   ]
  },
  {
   "cell_type": "code",
   "execution_count": null,
   "id": "2464e634",
   "metadata": {},
   "outputs": [],
   "source": [
    "ds = load_dataset(\"maharshipandya/spotify-tracks-dataset\")"
   ]
  },
  {
   "cell_type": "code",
   "execution_count": null,
   "id": "ed6e4bb2",
   "metadata": {},
   "outputs": [],
   "source": [
    "#get train and test datasets\n",
    "df_train = pd.DataFrame(ds['train'])\n",
    "df_test = pd.DataFrame(ds['train'])"
   ]
  },
  {
   "cell_type": "code",
   "execution_count": null,
   "id": "5e840c61-20b1-413d-91cb-0260438c928c",
   "metadata": {},
   "outputs": [],
   "source": [
    "df_train = df_train.dropna()\n",
    "df_test = df_test.dropna()"
   ]
  },
  {
   "cell_type": "code",
   "execution_count": null,
   "id": "8f4d8869",
   "metadata": {},
   "outputs": [],
   "source": [
    "#drop useless columns\n",
    "df_train.drop(columns=['Unnamed: 0', 'track_id'], inplace=True)\n",
    "df_test.drop(columns=['Unnamed: 0', 'track_id'], inplace=True)"
   ]
  },
  {
   "cell_type": "code",
   "execution_count": null,
   "id": "f3180381-6ebd-4464-9d95-9586378327aa",
   "metadata": {},
   "outputs": [],
   "source": [
    "#get prediction columns and drop from tables\n",
    "scalar = MinMaxScaler()\n",
    "target_train = df_train['popularity']\n",
    "target_test = df_test['popularity']\n",
    "df_train.drop(columns=['popularity'], inplace=True)\n",
    "df_test.drop(columns=['popularity'], inplace=True)"
   ]
  },
  {
   "cell_type": "code",
   "execution_count": null,
   "id": "f58e5b54",
   "metadata": {
    "editable": true,
    "slideshow": {
     "slide_type": ""
    },
    "tags": []
   },
   "outputs": [],
   "source": [
    "#scale duration\n",
    "df_train['duration_ms'] = scalar.fit_transform(df_train[['duration_ms']]).flatten()\n",
    "df_test['duration_ms'] = scalar.fit_transform(df_test[['duration_ms']]).flatten()"
   ]
  },
  {
   "cell_type": "code",
   "execution_count": null,
   "id": "86480d9f",
   "metadata": {},
   "outputs": [],
   "source": [
    "encoder = OneHotEncoder(sparse_output=False)\n",
    "#one hot encode explicit and track genre\n",
    "temp_train = pd.DataFrame(encoder.fit_transform(df_train[['explicit']]), columns=encoder.get_feature_names_out(['explicit']))\n",
    "temp2_train = pd.DataFrame(encoder.fit_transform(df_train[['track_genre']]), columns=encoder.get_feature_names_out(['track_genre']))\n",
    "\n",
    "\n",
    "temp3_test = pd.DataFrame(encoder.fit_transform(df_test[['explicit']]), columns=encoder.get_feature_names_out(['explicit']))\n",
    "temp4_test = pd.DataFrame(encoder.fit_transform(df_test[['track_genre']]), columns=encoder.get_feature_names_out(['track_genre']))"
   ]
  },
  {
   "cell_type": "code",
   "execution_count": null,
   "id": "e44e67da",
   "metadata": {},
   "outputs": [],
   "source": [
    "df_train = pd.concat([df_train,temp_train,temp2_train], axis=1)\n",
    "df_test = pd.concat([df_test, temp3_test, temp4_test], axis=1)\n",
    "df_train.drop(columns=['explicit', 'track_genre'], inplace=True)\n",
    "df_test.drop(columns=['explicit','track_genre'], inplace=True)\n"
   ]
  },
  {
   "cell_type": "code",
   "execution_count": null,
   "id": "e4a86891",
   "metadata": {},
   "outputs": [],
   "source": [
    "#one hot encode key of song \n",
    "temp_train_key = pd.DataFrame(encoder.fit_transform(df_train[['key']]), columns=encoder.get_feature_names_out(['key']))\n",
    "df_train = pd.concat([df_train,temp_train_key], axis=1)\n",
    "df_train.drop(columns=['key'], inplace=True)\n",
    "\n",
    "\n",
    "temp_test_key = pd.DataFrame(encoder.fit_transform(df_test[['key']]), columns=encoder.get_feature_names_out(['key']))\n",
    "df_test = pd.concat([df_test, temp_test_key], axis=1)\n",
    "df_test.drop(columns=['key'], inplace=True)"
   ]
  },
  {
   "cell_type": "code",
   "execution_count": null,
   "id": "251863bc",
   "metadata": {},
   "outputs": [],
   "source": [
    "#scale loudness\n",
    "df_train['loudness'] = scalar.fit_transform(df_train[['loudness']]).flatten()\n",
    "df_test['loudness'] = scalar.fit_transform(df_test[['loudness']]).flatten()\n",
    "\n",
    "#one hot encode time signature\n",
    "temp_train_tim_sig = pd.DataFrame(encoder.fit_transform(df_train[['time_signature']]), columns=encoder.get_feature_names_out(['time_signature']))\n",
    "temp_test_tim_sig = pd.DataFrame(encoder.fit_transform(df_test[['time_signature']]), columns=encoder.get_feature_names_out(['time_signature']))\n",
    "\n",
    "df_train=pd.concat([df_train,temp_train_tim_sig], axis=1)\n",
    "df_train.drop(columns=['time_signature'], inplace=True)\n",
    "\n",
    "df_test = pd.concat([df_test,temp_test_tim_sig],axis=1)\n",
    "df_test.drop(columns=['time_signature'], inplace=True)"
   ]
  },
  {
   "cell_type": "code",
   "execution_count": null,
   "id": "68d5dc16",
   "metadata": {
    "jupyter": {
     "outputs_hidden": true
    }
   },
   "outputs": [],
   "source": [
    "# nlp = spacy.load(\"en_core_web_sm\")\n",
    "# @spacy.Language.factory(\"language_detector\")\n",
    "\n",
    "# def create_lang_detector(nlp, name):\n",
    "#     return LanguageDetector()\n",
    "\n",
    "# nlp.add_pipe('language_detector', last=True)\n",
    "\n",
    "# def detect(text):\n",
    "#     doc = nlp(text)\n",
    "#     return doc._.language['language']\n",
    "# df['album_lang'] = df['album_name'].apply(detect)"
   ]
  }
 ],
 "metadata": {
  "kernelspec": {
   "display_name": "My Env",
   "language": "python",
   "name": "myenv"
  },
  "language_info": {
   "codemirror_mode": {
    "name": "ipython",
    "version": 3
   },
   "file_extension": ".py",
   "mimetype": "text/x-python",
   "name": "python",
   "nbconvert_exporter": "python",
   "pygments_lexer": "ipython3",
   "version": "3.10.12"
  }
 },
 "nbformat": 4,
 "nbformat_minor": 5
}
